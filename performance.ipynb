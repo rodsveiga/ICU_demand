{
 "cells": [
  {
   "cell_type": "markdown",
   "metadata": {},
   "source": [
    "# Backtesting analysis"
   ]
  },
  {
   "cell_type": "code",
   "execution_count": 6,
   "metadata": {},
   "outputs": [],
   "source": [
    "import numpy as np\n",
    "import pandas as pd\n",
    "import matplotlib.pyplot as plt\n",
    "from sklearn import linear_model\n",
    "from scipy.optimize import minimize \n",
    "from datetime import timedelta\n",
    "from IPython.display import Image\n",
    "import requests"
   ]
  },
  {
   "cell_type": "code",
   "execution_count": 7,
   "metadata": {},
   "outputs": [],
   "source": [
    "state_or_city = 'state'\n",
    "name = 'SP'\n",
    "country1 = 'Spain'\n",
    "country2 = 'Germany'\n",
    "t0 = 45"
   ]
  },
  {
   "cell_type": "markdown",
   "metadata": {},
   "source": [
    "## Loading backtesting models"
   ]
  },
  {
   "cell_type": "code",
   "execution_count": 30,
   "metadata": {},
   "outputs": [],
   "source": [
    "backtest_date = '2020-05-05'\n",
    "\n",
    "file1 = 'results/dfs/backtests/df_ICU_backtest_' + backtest_date + '_' + state_or_city + '_' + name + '_' + country1 + '_t0=' + str(t0) + '.pkl'\n",
    "file2 = 'results/dfs/backtests/df_ICU_backtest_' + backtest_date + '_' + state_or_city + '_' + name + '_' + country2 + '_t0=' + str(t0) + '.pkl'\n",
    "file3 = 'results/dfs/backtests/df_ICU_backtest_' + backtest_date + '_' + state_or_city + '_' + name + '_' + 'MEDIAN' + '_t0=' + str(t0) + '.pkl'\n",
    "\n",
    "df1_back_01 = pd.read_pickle(file1) \n",
    "df2_back_01 = pd.read_pickle(file2) \n",
    "df_median_back_01 = pd.read_pickle(file3)\n",
    "#\n",
    "df_median_back_01 = df_median_back_01.drop(columns = ['date'])\n",
    "#\n",
    "sub_01 = 2.7567500002961878"
   ]
  },
  {
   "cell_type": "code",
   "execution_count": 31,
   "metadata": {},
   "outputs": [],
   "source": [
    "backtest_date = '2020-04-30'\n",
    "\n",
    "file1 = 'results/dfs/backtests/df_ICU_backtest_' + backtest_date + '_' + state_or_city + '_' + name + '_' + country1 + '_t0=' + str(t0) + '.pkl'\n",
    "file2 = 'results/dfs/backtests/df_ICU_backtest_' + backtest_date + '_' + state_or_city + '_' + name + '_' + country2 + '_t0=' + str(t0) + '.pkl'\n",
    "file3 = 'results/dfs/backtests/df_ICU_backtest_' + backtest_date + '_' + state_or_city + '_' + name + '_' + 'MEDIAN' + '_t0=' + str(t0) + '.pkl'\n",
    "\n",
    "df1_back_02 = pd.read_pickle(file1) \n",
    "df2_back_02 = pd.read_pickle(file2) \n",
    "df_median_back_02 = pd.read_pickle(file3)\n",
    "#\n",
    "df_median_back_02 = df_median_back_02.drop(columns = ['date'])\n",
    "#\n",
    "\n",
    "sub_02 = 2.851068382441667"
   ]
  },
  {
   "cell_type": "code",
   "execution_count": 32,
   "metadata": {},
   "outputs": [],
   "source": [
    "backtest_date = '2020-04-25'\n",
    "\n",
    "file1 = 'results/dfs/backtests/df_ICU_backtest_' + backtest_date + '_' + state_or_city + '_' + name + '_' + country1 + '_t0=' + str(t0) + '.pkl'\n",
    "file2 = 'results/dfs/backtests/df_ICU_backtest_' + backtest_date + '_' + state_or_city + '_' + name + '_' + country2 + '_t0=' + str(t0) + '.pkl'\n",
    "file3 = 'results/dfs/backtests/df_ICU_backtest_' + backtest_date + '_' + state_or_city + '_' + name + '_' + 'MEDIAN' + '_t0=' + str(t0) + '.pkl'\n",
    "\n",
    "df1_back_03 = pd.read_pickle(file1) \n",
    "df2_back_03 = pd.read_pickle(file2) \n",
    "df_median_back_03 = pd.read_pickle(file3)\n",
    "#\n",
    "df_median_back_03 = df_median_back_03.drop(columns = ['date'])\n",
    "#\n",
    "\n",
    "sub_03 = 3.4108024499686396"
   ]
  },
  {
   "cell_type": "code",
   "execution_count": 33,
   "metadata": {},
   "outputs": [],
   "source": [
    "backtest_date = '2020-04-20'\n",
    "\n",
    "file1 = 'results/dfs/backtests/df_ICU_backtest_' + backtest_date + '_' + state_or_city + '_' + name + '_' + country1 + '_t0=' + str(t0) + '.pkl'\n",
    "file2 = 'results/dfs/backtests/df_ICU_backtest_' + backtest_date + '_' + state_or_city + '_' + name + '_' + country2 + '_t0=' + str(t0) + '.pkl'\n",
    "file3 = 'results/dfs/backtests/df_ICU_backtest_' + backtest_date + '_' + state_or_city + '_' + name + '_' + 'MEDIAN' + '_t0=' + str(t0) + '.pkl'\n",
    "\n",
    "df1_back_04 = pd.read_pickle(file1) \n",
    "df2_back_04 = pd.read_pickle(file2) \n",
    "df_median_back_04 = pd.read_pickle(file3)\n",
    "#\n",
    "df_median_back_04 = df_median_back_04.drop(columns = ['date'])\n",
    "#\n",
    "\n",
    "sub_04 = 2.8715325309390294"
   ]
  },
  {
   "cell_type": "markdown",
   "metadata": {},
   "source": [
    "## Loading data"
   ]
  },
  {
   "cell_type": "code",
   "execution_count": 14,
   "metadata": {},
   "outputs": [],
   "source": [
    "df_data = pd.DataFrame(columns= ['date', 'n_data_ICU'])\n",
    "df_data['date'] = df1_back_04.index\n",
    "df_data = df_data.set_index(['date'])\n",
    "\n",
    "df_data.loc['2020-05-08', 'n_data_ICU'] = 3474\n",
    "df_data.loc['2020-05-04', 'n_data_ICU'] = 3534\n",
    "df_data.loc['2020-04-29', 'n_data_ICU'] = 2088\n",
    "df_data.loc['2020-04-25', 'n_data_ICU'] = 2906\n",
    "df_data.loc['2020-04-23', 'n_data_ICU'] = 2807\n",
    "df_data.loc['2020-04-20', 'n_data_ICU'] = 2345\n",
    "df_data.loc['2020-04-17', 'n_data_ICU'] = 2275\n",
    "df_data.loc['2020-04-15', 'n_data_ICU'] = 1143\n",
    "df_data.loc['2020-04-14', 'n_data_ICU'] = 1042"
   ]
  },
  {
   "cell_type": "markdown",
   "metadata": {},
   "source": [
    "### Backtesting model fitted with data until 05-05\n",
    "\n",
    "#### Point `2020-05-08`"
   ]
  },
  {
   "cell_type": "code",
   "execution_count": 24,
   "metadata": {},
   "outputs": [
    {
     "output_type": "execute_result",
     "data": {
      "text/plain": "3474"
     },
     "metadata": {},
     "execution_count": 24
    }
   ],
   "source": [
    "df_data.loc['2020-05-08', 'n_data_ICU']"
   ]
  },
  {
   "cell_type": "code",
   "execution_count": 23,
   "metadata": {},
   "outputs": [
    {
     "output_type": "execute_result",
     "data": {
      "text/plain": "n_mean            129556.223014\nn_std                600.946296\nn_mean_ICU          4770.555876\nn_std_ICU            733.521155\nn_mean_ICU_SUS      2993.306718\nn_std_ICU_SUS        734.998498\nName: 2020-05-08 00:00:00, dtype: float64"
     },
     "metadata": {},
     "execution_count": 23
    }
   ],
   "source": [
    "sub_01*df1_back_01.loc['2020-05-08']"
   ]
  },
  {
   "cell_type": "code",
   "execution_count": 25,
   "metadata": {},
   "outputs": [
    {
     "output_type": "execute_result",
     "data": {
      "text/plain": "n_mean            120326.624013\nn_std                557.922928\nn_mean_ICU          4117.867745\nn_std_ICU            697.930395\nn_mean_ICU_SUS      2587.623388\nn_std_ICU_SUS        699.387369\nName: 2020-05-08 00:00:00, dtype: float64"
     },
     "metadata": {},
     "execution_count": 25
    }
   ],
   "source": [
    "sub_01*df2_back_01.loc['2020-05-08']"
   ]
  },
  {
   "cell_type": "code",
   "execution_count": 34,
   "metadata": {},
   "outputs": [
    {
     "output_type": "execute_result",
     "data": {
      "text/plain": "median        4444.211810\nstd            715.725775\nmedian_SUS    2790.465053\nstd_SUS        717.192934\nName: 2020-05-08 00:00:00, dtype: float64"
     },
     "metadata": {},
     "execution_count": 34
    }
   ],
   "source": [
    "sub_01*df_median_back_01.loc['2020-05-08']"
   ]
  },
  {
   "cell_type": "markdown",
   "metadata": {},
   "source": [
    "### Backtesting model fitted with data until 04-30\n",
    "\n",
    "#### Point `2020-05-08`"
   ]
  },
  {
   "cell_type": "code",
   "execution_count": 35,
   "metadata": {},
   "outputs": [
    {
     "output_type": "execute_result",
     "data": {
      "text/plain": "3474"
     },
     "metadata": {},
     "execution_count": 35
    }
   ],
   "source": [
    "df_data.loc['2020-05-08', 'n_data_ICU']"
   ]
  },
  {
   "cell_type": "code",
   "execution_count": 37,
   "metadata": {},
   "outputs": [
    {
     "output_type": "execute_result",
     "data": {
      "text/plain": "n_mean            135824.897740\nn_std                597.013788\nn_mean_ICU          5071.908099\nn_std_ICU            748.287959\nn_mean_ICU_SUS      3176.517838\nn_std_ICU_SUS        750.326907\nName: 2020-05-08 00:00:00, dtype: float64"
     },
     "metadata": {},
     "execution_count": 37
    }
   ],
   "source": [
    "sub_02*df1_back_02.loc['2020-05-08']"
   ]
  },
  {
   "cell_type": "code",
   "execution_count": 36,
   "metadata": {},
   "outputs": [
    {
     "output_type": "execute_result",
     "data": {
      "text/plain": "n_mean            123063.515660\nn_std                580.224366\nn_mean_ICU          4196.886702\nn_std_ICU            725.462400\nn_mean_ICU_SUS      2627.288025\nn_std_ICU_SUS        727.581755\nName: 2020-05-08 00:00:00, dtype: float64"
     },
     "metadata": {},
     "execution_count": 36
    }
   ],
   "source": [
    "sub_02*df2_back_02.loc['2020-05-08']"
   ]
  },
  {
   "cell_type": "code",
   "execution_count": 38,
   "metadata": {},
   "outputs": [
    {
     "output_type": "execute_result",
     "data": {
      "text/plain": "median        4634.397400\nstd            736.875180\nmedian_SUS    2901.902932\nstd_SUS        738.954331\nName: 2020-05-08 00:00:00, dtype: float64"
     },
     "metadata": {},
     "execution_count": 38
    }
   ],
   "source": [
    "sub_02*df_median_back_02.loc['2020-05-08']"
   ]
  },
  {
   "cell_type": "markdown",
   "metadata": {},
   "source": [
    "#### Point `2020-05-04`"
   ]
  },
  {
   "cell_type": "code",
   "execution_count": 39,
   "metadata": {},
   "outputs": [
    {
     "output_type": "execute_result",
     "data": {
      "text/plain": "3534"
     },
     "metadata": {},
     "execution_count": 39
    }
   ],
   "source": [
    "df_data.loc['2020-05-04', 'n_data_ICU']"
   ]
  },
  {
   "cell_type": "code",
   "execution_count": 40,
   "metadata": {},
   "outputs": [
    {
     "output_type": "execute_result",
     "data": {
      "text/plain": "n_mean            109136.046611\nn_std                533.675148\nn_mean_ICU          4133.707026\nn_std_ICU            654.535076\nn_mean_ICU_SUS      2599.718194\nn_std_ICU_SUS        656.462222\nName: 2020-05-04 00:00:00, dtype: float64"
     },
     "metadata": {},
     "execution_count": 40
    }
   ],
   "source": [
    "sub_02*df1_back_02.loc['2020-05-04']"
   ]
  },
  {
   "cell_type": "code",
   "execution_count": 41,
   "metadata": {},
   "outputs": [
    {
     "output_type": "execute_result",
     "data": {
      "text/plain": "n_mean            103245.739333\nn_std                521.514997\nn_mean_ICU          3747.900453\nn_std_ICU            650.401551\nn_mean_ICU_SUS      2344.490552\nn_std_ICU_SUS        652.252203\nName: 2020-05-04 00:00:00, dtype: float64"
     },
     "metadata": {},
     "execution_count": 41
    }
   ],
   "source": [
    "sub_02*df2_back_02.loc['2020-05-04']"
   ]
  },
  {
   "cell_type": "code",
   "execution_count": 43,
   "metadata": {},
   "outputs": [
    {
     "output_type": "execute_result",
     "data": {
      "text/plain": "median        3940.803740\nstd            652.468314\nmedian_SUS    2472.104373\nstd_SUS        654.357212\nName: 2020-05-04 00:00:00, dtype: float64"
     },
     "metadata": {},
     "execution_count": 43
    }
   ],
   "source": [
    "sub_02*df_median_back_02.loc['2020-05-04']"
   ]
  },
  {
   "cell_type": "markdown",
   "metadata": {},
   "source": [
    "### Backtesting model fitted with data until 04-25\n",
    "\n",
    "#### Point `2020-05-08`"
   ]
  },
  {
   "cell_type": "code",
   "execution_count": 44,
   "metadata": {},
   "outputs": [
    {
     "output_type": "execute_result",
     "data": {
      "text/plain": "3474"
     },
     "metadata": {},
     "execution_count": 44
    }
   ],
   "source": [
    "df_data.loc['2020-05-08', 'n_data_ICU']"
   ]
  },
  {
   "cell_type": "code",
   "execution_count": 45,
   "metadata": {},
   "outputs": [
    {
     "output_type": "execute_result",
     "data": {
      "text/plain": "n_mean            155982.817642\nn_std                725.412833\nn_mean_ICU          5673.187715\nn_std_ICU            888.424405\nn_mean_ICU_SUS      3563.469968\nn_std_ICU_SUS        891.346131\nName: 2020-05-08 00:00:00, dtype: float64"
     },
     "metadata": {},
     "execution_count": 45
    }
   ],
   "source": [
    "sub_03*df1_back_03.loc['2020-05-08']"
   ]
  },
  {
   "cell_type": "code",
   "execution_count": 46,
   "metadata": {},
   "outputs": [
    {
     "output_type": "execute_result",
     "data": {
      "text/plain": "n_mean            139351.744896\nn_std                669.943420\nn_mean_ICU          4618.499381\nn_std_ICU            844.825422\nn_mean_ICU_SUS      2905.253311\nn_std_ICU_SUS        846.728354\nName: 2020-05-08 00:00:00, dtype: float64"
     },
     "metadata": {},
     "execution_count": 46
    }
   ],
   "source": [
    "sub_03*df2_back_03.loc['2020-05-08']"
   ]
  },
  {
   "cell_type": "code",
   "execution_count": 47,
   "metadata": {},
   "outputs": [
    {
     "output_type": "execute_result",
     "data": {
      "text/plain": "median        5145.843548\nstd            866.624913\nmedian_SUS    3234.361639\nstd_SUS        869.037243\nName: 2020-05-08 00:00:00, dtype: float64"
     },
     "metadata": {},
     "execution_count": 47
    }
   ],
   "source": [
    "sub_03*df_median_back_03.loc['2020-05-08']"
   ]
  },
  {
   "cell_type": "markdown",
   "metadata": {},
   "source": [
    "#### Point `2020-05-04`"
   ]
  },
  {
   "cell_type": "code",
   "execution_count": 48,
   "metadata": {},
   "outputs": [
    {
     "output_type": "execute_result",
     "data": {
      "text/plain": "3534"
     },
     "metadata": {},
     "execution_count": 48
    }
   ],
   "source": [
    "df_data.loc['2020-05-04', 'n_data_ICU']"
   ]
  },
  {
   "cell_type": "code",
   "execution_count": 49,
   "metadata": {},
   "outputs": [
    {
     "output_type": "execute_result",
     "data": {
      "text/plain": "n_mean            126035.972131\nn_std                635.532611\nn_mean_ICU          4686.101486\nn_std_ICU            788.461629\nn_mean_ICU_SUS      2939.190795\nn_std_ICU_SUS        790.757649\nName: 2020-05-04 00:00:00, dtype: float64"
     },
     "metadata": {},
     "execution_count": 49
    }
   ],
   "source": [
    "sub_03*df1_back_03.loc['2020-05-04']"
   ]
  },
  {
   "cell_type": "code",
   "execution_count": 50,
   "metadata": {},
   "outputs": [
    {
     "output_type": "execute_result",
     "data": {
      "text/plain": "n_mean            117365.712303\nn_std                608.601865\nn_mean_ICU          4147.979183\nn_std_ICU            762.498748\nn_mean_ICU_SUS      2612.094840\nn_std_ICU_SUS        764.470941\nName: 2020-05-04 00:00:00, dtype: float64"
     },
     "metadata": {},
     "execution_count": 50
    }
   ],
   "source": [
    "sub_03*df2_back_03.loc['2020-05-04']"
   ]
  },
  {
   "cell_type": "code",
   "execution_count": 51,
   "metadata": {},
   "outputs": [
    {
     "output_type": "execute_result",
     "data": {
      "text/plain": "median        4417.040335\nstd            775.480188\nmedian_SUS    2775.642818\nstd_SUS        777.614295\nName: 2020-05-04 00:00:00, dtype: float64"
     },
     "metadata": {},
     "execution_count": 51
    }
   ],
   "source": [
    "sub_03*df_median_back_03.loc['2020-05-04']"
   ]
  },
  {
   "cell_type": "markdown",
   "metadata": {},
   "source": [
    "#### Point `2020-04-29`"
   ]
  },
  {
   "cell_type": "code",
   "execution_count": 52,
   "metadata": {},
   "outputs": [
    {
     "output_type": "execute_result",
     "data": {
      "text/plain": "2088"
     },
     "metadata": {},
     "execution_count": 52
    }
   ],
   "source": [
    "df_data.loc['2020-04-29', 'n_data_ICU']"
   ]
  },
  {
   "cell_type": "code",
   "execution_count": 53,
   "metadata": {},
   "outputs": [
    {
     "output_type": "execute_result",
     "data": {
      "text/plain": "n_mean            95287.588045\nn_std               544.009930\nn_mean_ICU         3640.315347\nn_std_ICU           675.278436\nn_mean_ICU_SUS     2282.031487\nn_std_ICU_SUS       677.298962\nName: 2020-04-29 00:00:00, dtype: float64"
     },
     "metadata": {},
     "execution_count": 53
    }
   ],
   "source": [
    "sub_03*df1_back_03.loc['2020-04-29']"
   ]
  },
  {
   "cell_type": "code",
   "execution_count": 54,
   "metadata": {},
   "outputs": [
    {
     "output_type": "execute_result",
     "data": {
      "text/plain": "n_mean            92204.222630\nn_std               540.445402\nn_mean_ICU         3423.081339\nn_std_ICU           673.416667\nn_mean_ICU_SUS     2146.008685\nn_std_ICU_SUS       675.246481\nName: 2020-04-29 00:00:00, dtype: float64"
     },
     "metadata": {},
     "execution_count": 54
    }
   ],
   "source": [
    "sub_03*df2_back_03.loc['2020-04-29']"
   ]
  },
  {
   "cell_type": "code",
   "execution_count": 55,
   "metadata": {},
   "outputs": [
    {
     "output_type": "execute_result",
     "data": {
      "text/plain": "median        3531.698343\nstd            674.347552\nmedian_SUS    2214.020086\nstd_SUS        676.272721\nName: 2020-04-29 00:00:00, dtype: float64"
     },
     "metadata": {},
     "execution_count": 55
    }
   ],
   "source": [
    "sub_03*df_median_back_03.loc['2020-04-29']"
   ]
  },
  {
   "cell_type": "markdown",
   "metadata": {},
   "source": [
    "### Backtesting model fitted with data until 04-20\n",
    "\n",
    "#### Point `2020-05-08`"
   ]
  },
  {
   "cell_type": "code",
   "execution_count": 56,
   "metadata": {},
   "outputs": [
    {
     "output_type": "execute_result",
     "data": {
      "text/plain": "3474"
     },
     "metadata": {},
     "execution_count": 56
    }
   ],
   "source": [
    "df_data.loc['2020-05-08', 'n_data_ICU']"
   ]
  },
  {
   "cell_type": "code",
   "execution_count": 57,
   "metadata": {},
   "outputs": [
    {
     "output_type": "execute_result",
     "data": {
      "text/plain": "n_mean            164771.408158\nn_std                678.462511\nn_mean_ICU          6566.161147\nn_std_ICU            827.297301\nn_mean_ICU_SUS      4118.696540\nn_std_ICU_SUS        830.805721\nName: 2020-05-08 00:00:00, dtype: float64"
     },
     "metadata": {},
     "execution_count": 57
    }
   ],
   "source": [
    "sub_04*df1_back_04.loc['2020-05-08']"
   ]
  },
  {
   "cell_type": "code",
   "execution_count": 58,
   "metadata": {},
   "outputs": [
    {
     "output_type": "execute_result",
     "data": {
      "text/plain": "n_mean            137046.761572\nn_std                619.041485\nn_mean_ICU          4816.105646\nn_std_ICU            773.249520\nn_mean_ICU_SUS      3015.884471\nn_std_ICU_SUS        775.528392\nName: 2020-05-08 00:00:00, dtype: float64"
     },
     "metadata": {},
     "execution_count": 58
    }
   ],
   "source": [
    "sub_04*df2_back_04.loc['2020-05-08']"
   ]
  },
  {
   "cell_type": "code",
   "execution_count": 59,
   "metadata": {},
   "outputs": [
    {
     "output_type": "execute_result",
     "data": {
      "text/plain": "median        5691.133396\nstd            800.273411\nmedian_SUS    3567.290506\nstd_SUS        803.167056\nName: 2020-05-08 00:00:00, dtype: float64"
     },
     "metadata": {},
     "execution_count": 59
    }
   ],
   "source": [
    "sub_04*df_median_back_04.loc['2020-05-08']"
   ]
  },
  {
   "cell_type": "markdown",
   "metadata": {},
   "source": [
    "#### Point `2020-05-04`"
   ]
  },
  {
   "cell_type": "code",
   "execution_count": 60,
   "metadata": {},
   "outputs": [
    {
     "output_type": "execute_result",
     "data": {
      "text/plain": "3534"
     },
     "metadata": {},
     "execution_count": 60
    }
   ],
   "source": [
    "df_data.loc['2020-05-04', 'n_data_ICU']"
   ]
  },
  {
   "cell_type": "code",
   "execution_count": 61,
   "metadata": {},
   "outputs": [
    {
     "output_type": "execute_result",
     "data": {
      "text/plain": "n_mean            129890.902504\nn_std                586.538113\nn_mean_ICU          5256.254152\nn_std_ICU            711.155667\nn_mean_ICU_SUS      3300.596922\nn_std_ICU_SUS        713.684653\nName: 2020-05-04 00:00:00, dtype: float64"
     },
     "metadata": {},
     "execution_count": 61
    }
   ],
   "source": [
    "sub_04*df1_back_04.loc['2020-05-04']"
   ]
  },
  {
   "cell_type": "code",
   "execution_count": 62,
   "metadata": {},
   "outputs": [
    {
     "output_type": "execute_result",
     "data": {
      "text/plain": "n_mean            114732.082274\nn_std                548.054137\nn_mean_ICU          4321.599028\nn_std_ICU            674.889283\nn_mean_ICU_SUS      2709.922680\nn_std_ICU_SUS        677.151060\nName: 2020-05-04 00:00:00, dtype: float64"
     },
     "metadata": {},
     "execution_count": 62
    }
   ],
   "source": [
    "sub_04*df2_back_04.loc['2020-05-04']"
   ]
  },
  {
   "cell_type": "code",
   "execution_count": 63,
   "metadata": {},
   "outputs": [
    {
     "output_type": "execute_result",
     "data": {
      "text/plain": "median        4788.926590\nstd            693.022475\nmedian_SUS    3005.259801\nstd_SUS        695.417856\nName: 2020-05-04 00:00:00, dtype: float64"
     },
     "metadata": {},
     "execution_count": 63
    }
   ],
   "source": [
    "sub_04*df_median_back_04.loc['2020-05-04']"
   ]
  },
  {
   "cell_type": "markdown",
   "metadata": {},
   "source": [
    "#### Point `2020-04-29`"
   ]
  },
  {
   "cell_type": "code",
   "execution_count": 64,
   "metadata": {},
   "outputs": [
    {
     "output_type": "execute_result",
     "data": {
      "text/plain": "2088"
     },
     "metadata": {},
     "execution_count": 64
    }
   ],
   "source": [
    "df_data.loc['2020-04-29', 'n_data_ICU']"
   ]
  },
  {
   "cell_type": "code",
   "execution_count": 65,
   "metadata": {},
   "outputs": [
    {
     "output_type": "execute_result",
     "data": {
      "text/plain": "n_mean            94436.090345\nn_std               498.273163\nn_mean_ICU         3957.029258\nn_std_ICU           603.286949\nn_mean_ICU_SUS     2484.708384\nn_std_ICU_SUS       605.598732\nName: 2020-04-29 00:00:00, dtype: float64"
     },
     "metadata": {},
     "execution_count": 65
    }
   ],
   "source": [
    "sub_04*df1_back_04.loc['2020-04-29']"
   ]
  },
  {
   "cell_type": "code",
   "execution_count": 66,
   "metadata": {},
   "outputs": [
    {
     "output_type": "execute_result",
     "data": {
      "text/plain": "n_mean            88454.688083\nn_std               497.012625\nn_mean_ICU         3561.188499\nn_std_ICU           599.371635\nn_mean_ICU_SUS     2233.334426\nn_std_ICU_SUS       601.666677\nName: 2020-04-29 00:00:00, dtype: float64"
     },
     "metadata": {},
     "execution_count": 66
    }
   ],
   "source": [
    "sub_04*df2_back_04.loc['2020-04-29']"
   ]
  },
  {
   "cell_type": "code",
   "execution_count": 67,
   "metadata": {},
   "outputs": [
    {
     "output_type": "execute_result",
     "data": {
      "text/plain": "median        3759.108879\nstd            601.329292\nmedian_SUS    2359.021405\nstd_SUS        603.632705\nName: 2020-04-29 00:00:00, dtype: float64"
     },
     "metadata": {},
     "execution_count": 67
    }
   ],
   "source": [
    "sub_04*df_median_back_04.loc['2020-04-29']"
   ]
  },
  {
   "cell_type": "markdown",
   "metadata": {},
   "source": [
    "#### Point `2020-04-25`"
   ]
  },
  {
   "cell_type": "code",
   "execution_count": 68,
   "metadata": {},
   "outputs": [
    {
     "output_type": "execute_result",
     "data": {
      "text/plain": "2906"
     },
     "metadata": {},
     "execution_count": 68
    }
   ],
   "source": [
    "df_data.loc['2020-04-25', 'n_data_ICU']"
   ]
  },
  {
   "cell_type": "code",
   "execution_count": 69,
   "metadata": {},
   "outputs": [
    {
     "output_type": "execute_result",
     "data": {
      "text/plain": "n_mean            72173.098633\nn_std               430.861152\nn_mean_ICU         3080.178085\nn_std_ICU           521.920980\nn_mean_ICU_SUS     1926.453744\nn_std_ICU_SUS       523.886637\nName: 2020-04-25 00:00:00, dtype: float64"
     },
     "metadata": {},
     "execution_count": 69
    }
   ],
   "source": [
    "sub_04*df1_back_04.loc['2020-04-25']"
   ]
  },
  {
   "cell_type": "code",
   "execution_count": 70,
   "metadata": {},
   "outputs": [
    {
     "output_type": "execute_result",
     "data": {
      "text/plain": "n_mean            69864.386478\nn_std               433.058664\nn_mean_ICU         2914.519373\nn_std_ICU           526.035072\nn_mean_ICU_SUS     1822.705274\nn_std_ICU_SUS       527.707992\nName: 2020-04-25 00:00:00, dtype: float64"
     },
     "metadata": {},
     "execution_count": 70
    }
   ],
   "source": [
    "sub_04*df2_back_04.loc['2020-04-25']"
   ]
  },
  {
   "cell_type": "code",
   "execution_count": 71,
   "metadata": {},
   "outputs": [
    {
     "output_type": "execute_result",
     "data": {
      "text/plain": "median        2997.348729\nstd            523.978026\nmedian_SUS    1874.579509\nstd_SUS        525.797314\nName: 2020-04-25 00:00:00, dtype: float64"
     },
     "metadata": {},
     "execution_count": 71
    }
   ],
   "source": [
    "sub_04*df_median_back_04.loc['2020-04-25']"
   ]
  },
  {
   "cell_type": "markdown",
   "metadata": {},
   "source": [
    "#### Point `2020-04-23`"
   ]
  },
  {
   "cell_type": "code",
   "execution_count": 72,
   "metadata": {},
   "outputs": [
    {
     "output_type": "execute_result",
     "data": {
      "text/plain": "2807"
     },
     "metadata": {},
     "execution_count": 72
    }
   ],
   "source": [
    "df_data.loc['2020-04-23', 'n_data_ICU']"
   ]
  },
  {
   "cell_type": "code",
   "execution_count": 73,
   "metadata": {},
   "outputs": [
    {
     "output_type": "execute_result",
     "data": {
      "text/plain": "n_mean            62860.718635\nn_std               404.942187\nn_mean_ICU         2680.546902\nn_std_ICU           486.542240\nn_mean_ICU_SUS     1688.231406\nn_std_ICU_SUS       488.216097\nName: 2020-04-23 00:00:00, dtype: float64"
     },
     "metadata": {},
     "execution_count": 73
    }
   ],
   "source": [
    "sub_04*df1_back_04.loc['2020-04-23']"
   ]
  },
  {
   "cell_type": "code",
   "execution_count": 74,
   "metadata": {},
   "outputs": [
    {
     "output_type": "execute_result",
     "data": {
      "text/plain": "n_mean            61580.015126\nn_std               413.585170\nn_mean_ICU         2598.162634\nn_std_ICU           493.152572\nn_mean_ICU_SUS     1628.848113\nn_std_ICU_SUS       495.072202\nName: 2020-04-23 00:00:00, dtype: float64"
     },
     "metadata": {},
     "execution_count": 74
    }
   ],
   "source": [
    "sub_04*df2_back_04.loc['2020-04-23']"
   ]
  },
  {
   "cell_type": "code",
   "execution_count": 75,
   "metadata": {},
   "outputs": [
    {
     "output_type": "execute_result",
     "data": {
      "text/plain": "median        2639.354768\nstd            489.847406\nmedian_SUS    1658.539759\nstd_SUS        491.644149\nName: 2020-04-23 00:00:00, dtype: float64"
     },
     "metadata": {},
     "execution_count": 75
    }
   ],
   "source": [
    "sub_04*df_median_back_04.loc['2020-04-23']"
   ]
  },
  {
   "cell_type": "code",
   "execution_count": null,
   "metadata": {},
   "outputs": [],
   "source": []
  }
 ],
 "metadata": {
  "kernelspec": {
   "display_name": "Python 3",
   "language": "python",
   "name": "python3"
  },
  "language_info": {
   "codemirror_mode": {
    "name": "ipython",
    "version": 3
   },
   "file_extension": ".py",
   "mimetype": "text/x-python",
   "name": "python",
   "nbconvert_exporter": "python",
   "pygments_lexer": "ipython3",
   "version": "3.7.3-final"
  }
 },
 "nbformat": 4,
 "nbformat_minor": 2
}