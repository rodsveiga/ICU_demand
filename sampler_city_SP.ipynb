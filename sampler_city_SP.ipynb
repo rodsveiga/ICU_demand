{
 "cells": [
  {
   "cell_type": "markdown",
   "metadata": {},
   "source": [
    "# Age-structured ICU demand sampler"
   ]
  },
  {
   "cell_type": "code",
   "execution_count": 36,
   "metadata": {},
   "outputs": [],
   "source": [
    "import numpy as np\n",
    "import pandas as pd\n",
    "import matplotlib.pyplot as plt\n",
    "from sklearn import linear_model\n",
    "from scipy.optimize import minimize \n",
    "from datetime import timedelta\n",
    "import datetime as dt\n",
    "from IPython.display import Image\n",
    "import requests"
   ]
  },
  {
   "cell_type": "markdown",
   "metadata": {},
   "source": [
    "## Data\n",
    "\n",
    "### Brazil\n",
    "\n",
    "#### COVID-19 DATA\n",
    "\n",
    "Data source: [Brasil.IO](https://brasil.io/dataset/covid19/caso). Observe the database changes every day.\n",
    "\n"
   ]
  },
  {
   "cell_type": "code",
   "execution_count": 80,
   "metadata": {},
   "outputs": [],
   "source": [
    "#url = \"https://brasil.io/dataset/covid19/caso/?format=csv\"\n",
    "#filename = 'data/brazil_' + url.split(\"/\")[-3] + '.csv'\n",
    "#with open(filename, \"wb\") as f:\n",
    "#    r = requests.get(url)\n",
    "#    f.write(r.content)"
   ]
  },
  {
   "cell_type": "markdown",
   "metadata": {},
   "source": [
    "To keep the same analysis, we keep the data basis from May 17."
   ]
  },
  {
   "cell_type": "code",
   "execution_count": 109,
   "metadata": {},
   "outputs": [
    {
     "data": {
      "text/html": [
       "<div>\n",
       "<style scoped>\n",
       "    .dataframe tbody tr th:only-of-type {\n",
       "        vertical-align: middle;\n",
       "    }\n",
       "\n",
       "    .dataframe tbody tr th {\n",
       "        vertical-align: top;\n",
       "    }\n",
       "\n",
       "    .dataframe thead th {\n",
       "        text-align: right;\n",
       "    }\n",
       "</style>\n",
       "<table border=\"1\" class=\"dataframe\">\n",
       "  <thead>\n",
       "    <tr style=\"text-align: right;\">\n",
       "      <th></th>\n",
       "      <th>date</th>\n",
       "      <th>state</th>\n",
       "      <th>city</th>\n",
       "      <th>place_type</th>\n",
       "      <th>confirmed</th>\n",
       "      <th>deaths</th>\n",
       "      <th>is_last</th>\n",
       "      <th>estimated_population_2019</th>\n",
       "      <th>city_ibge_code</th>\n",
       "      <th>confirmed_per_100k_inhabitants</th>\n",
       "      <th>death_rate</th>\n",
       "    </tr>\n",
       "  </thead>\n",
       "  <tbody>\n",
       "    <tr>\n",
       "      <th>0</th>\n",
       "      <td>2020-05-17</td>\n",
       "      <td>AL</td>\n",
       "      <td>Anadia</td>\n",
       "      <td>city</td>\n",
       "      <td>5</td>\n",
       "      <td>1</td>\n",
       "      <td>True</td>\n",
       "      <td>17545.0</td>\n",
       "      <td>2700201.0</td>\n",
       "      <td>28.49815</td>\n",
       "      <td>0.2000</td>\n",
       "    </tr>\n",
       "    <tr>\n",
       "      <th>1</th>\n",
       "      <td>2020-05-17</td>\n",
       "      <td>AL</td>\n",
       "      <td>Arapiraca</td>\n",
       "      <td>city</td>\n",
       "      <td>130</td>\n",
       "      <td>6</td>\n",
       "      <td>True</td>\n",
       "      <td>231747.0</td>\n",
       "      <td>2700300.0</td>\n",
       "      <td>56.09566</td>\n",
       "      <td>0.0462</td>\n",
       "    </tr>\n",
       "    <tr>\n",
       "      <th>2</th>\n",
       "      <td>2020-05-17</td>\n",
       "      <td>AL</td>\n",
       "      <td>Atalaia</td>\n",
       "      <td>city</td>\n",
       "      <td>29</td>\n",
       "      <td>1</td>\n",
       "      <td>True</td>\n",
       "      <td>47185.0</td>\n",
       "      <td>2700409.0</td>\n",
       "      <td>61.46021</td>\n",
       "      <td>0.0345</td>\n",
       "    </tr>\n",
       "    <tr>\n",
       "      <th>3</th>\n",
       "      <td>2020-05-17</td>\n",
       "      <td>AL</td>\n",
       "      <td>Barra de Santo Antônio</td>\n",
       "      <td>city</td>\n",
       "      <td>3</td>\n",
       "      <td>0</td>\n",
       "      <td>True</td>\n",
       "      <td>15932.0</td>\n",
       "      <td>2700508.0</td>\n",
       "      <td>18.83003</td>\n",
       "      <td>0.0000</td>\n",
       "    </tr>\n",
       "    <tr>\n",
       "      <th>4</th>\n",
       "      <td>2020-05-17</td>\n",
       "      <td>AL</td>\n",
       "      <td>Barra de São Miguel</td>\n",
       "      <td>city</td>\n",
       "      <td>9</td>\n",
       "      <td>0</td>\n",
       "      <td>True</td>\n",
       "      <td>8322.0</td>\n",
       "      <td>2700607.0</td>\n",
       "      <td>108.14708</td>\n",
       "      <td>0.0000</td>\n",
       "    </tr>\n",
       "  </tbody>\n",
       "</table>\n",
       "</div>"
      ],
      "text/plain": [
       "         date state                    city place_type  confirmed  deaths  \\\n",
       "0  2020-05-17    AL                  Anadia       city          5       1   \n",
       "1  2020-05-17    AL               Arapiraca       city        130       6   \n",
       "2  2020-05-17    AL                 Atalaia       city         29       1   \n",
       "3  2020-05-17    AL  Barra de Santo Antônio       city          3       0   \n",
       "4  2020-05-17    AL     Barra de São Miguel       city          9       0   \n",
       "\n",
       "   is_last  estimated_population_2019  city_ibge_code  \\\n",
       "0     True                    17545.0       2700201.0   \n",
       "1     True                   231747.0       2700300.0   \n",
       "2     True                    47185.0       2700409.0   \n",
       "3     True                    15932.0       2700508.0   \n",
       "4     True                     8322.0       2700607.0   \n",
       "\n",
       "   confirmed_per_100k_inhabitants  death_rate  \n",
       "0                        28.49815      0.2000  \n",
       "1                        56.09566      0.0462  \n",
       "2                        61.46021      0.0345  \n",
       "3                        18.83003      0.0000  \n",
       "4                       108.14708      0.0000  "
      ]
     },
     "execution_count": 109,
     "metadata": {},
     "output_type": "execute_result"
    }
   ],
   "source": [
    "filename = 'data/brazil_covid19_05_17.csv'\n",
    "\n",
    "df = pd.read_csv(filename)\n",
    "df.head()"
   ]
  },
  {
   "cell_type": "markdown",
   "metadata": {},
   "source": [
    "Select a particular state or city:"
   ]
  },
  {
   "cell_type": "code",
   "execution_count": 110,
   "metadata": {},
   "outputs": [],
   "source": [
    "#state_or_city = 'state'\n",
    "state_or_city = 'city'\n",
    "\n",
    "#name = 'SP'\n",
    "name = 'São Paulo'\n",
    "\n",
    "df = df[ df['place_type'] == state_or_city]\n",
    "df = df[ df[state_or_city] == name ]\n",
    "\n",
    "df_I = df.groupby('date')[['confirmed']].sum()\n",
    "df_I.index = pd.to_datetime(df_I.index)\n",
    "today = df_I.index[-1] + timedelta(days=1)"
   ]
  },
  {
   "cell_type": "markdown",
   "metadata": {},
   "source": [
    "Last day of data used to run this notebook:"
   ]
  },
  {
   "cell_type": "code",
   "execution_count": 111,
   "metadata": {},
   "outputs": [
    {
     "data": {
      "text/plain": [
       "'05-17'"
      ]
     },
     "execution_count": 111,
     "metadata": {},
     "output_type": "execute_result"
    }
   ],
   "source": [
    "fit_until = df_I.index[-1].strftime('%m-%d')\n",
    "fit_until"
   ]
  },
  {
   "cell_type": "markdown",
   "metadata": {},
   "source": [
    "Eventually, data for some days are not avalible depending on the city or state. Thus, the must be a shift in the model to take these absent days into accont."
   ]
  },
  {
   "cell_type": "code",
   "execution_count": 112,
   "metadata": {},
   "outputs": [],
   "source": [
    "start = df_I.index[0]\n",
    "end = df_I.index[-1]\n",
    "time_I = pd.date_range(start, end, freq='D')\n",
    "\n",
    "shift_NaN = np.abs( len(time_I) - len(df_I.index) )  "
   ]
  },
  {
   "cell_type": "code",
   "execution_count": 117,
   "metadata": {},
   "outputs": [],
   "source": [
    "today = df_I.index[-1] + timedelta(days=1)"
   ]
  },
  {
   "cell_type": "markdown",
   "metadata": {},
   "source": [
    "#### Population data combined with ICU adimission probability by age\n",
    "\n",
    "Data source: [IBGE](https://www.ibge.gov.br/apps/populacao/projecao/)."
   ]
  },
  {
   "cell_type": "code",
   "execution_count": 118,
   "metadata": {},
   "outputs": [],
   "source": [
    "# State of São Paulo\n",
    "file = 'data/pop_age_str_IBGE_2020_' + 'SP' + '.csv'\n",
    "\n",
    "# Other states\n",
    "# file = 'data/pop_age_str_IBGE_2020_' + name + '.csv'\n",
    "\n",
    "df_age = pd.read_csv(file)\n",
    "df_age.loc[0, 'Age'] = '00-04'\n",
    "df_age.loc[1, 'Age'] = '05-09'\n",
    "df_age['AGE_prob'] = df_age['Total'] / df_age['Total'].sum()\n",
    "\n",
    "# Selected state\n",
    "#pop0 = df_age['Total'].sum().item()\n",
    "\n",
    "# City of São Paulo\n",
    "pop0 = \t12252023"
   ]
  },
  {
   "cell_type": "code",
   "execution_count": 119,
   "metadata": {},
   "outputs": [
    {
     "data": {
      "image/png": "[encoded data removed]",
      "text/plain": [
       "<Figure size 864x288 with 1 Axes>"
      ]
     },
     "metadata": {
      "needs_background": "light"
     },
     "output_type": "display_data"
    }
   ],
   "source": [
    "fig, ax = plt.subplots(figsize= (12, 4))\n",
    "ax.bar(df_age['Age'], 100*df_age['AGE_prob'], color = 'C9')\n",
    "ax.set_xlabel('Age interval', fontsize= 15)\n",
    "ax.set_ylabel('Population fraction (%)', fontsize= 15)\n",
    "\n",
    "\n",
    "plt.show()"
   ]
  },
  {
   "cell_type": "markdown",
   "metadata": {},
   "source": [
    "Data source: [Severe Outcomes Among Patients with Coronavirus Disease 2019 (COVID-19) — United States, February 12–March 16, 2020](https://www.cdc.gov/mmwr/volumes/69/wr/mm6912e2.htm?s_cid=mm6912e2_w) by [CDC](https://www.cdc.gov/)."
   ]
  },
  {
   "cell_type": "code",
   "execution_count": 120,
   "metadata": {},
   "outputs": [
    {
     "data": {
      "image/png": "[encoded data removed]",
      "text/plain": [
       "<IPython.core.display.Image object>"
      ]
     },
     "execution_count": 120,
     "metadata": {},
     "output_type": "execute_result"
    }
   ],
   "source": [
    "Image(filename= 'results/figures/____CDC_ICU_age.png') "
   ]
  },
  {
   "cell_type": "code",
   "execution_count": 121,
   "metadata": {},
   "outputs": [],
   "source": [
    "df_age_ICU = pd.DataFrame(columns=['Age', 'ICU_prob'])\n",
    "df_age_ICU['Age'] = ['0-19', '20-44', '45-54', '55-64', '65-74', '75-84', '85+']\n",
    "df_age_ICU['ICU_prob'] = [0, 4.2, 10.4, 11.2, 18.8, 31, 29]"
   ]
  },
  {
   "cell_type": "code",
   "execution_count": 122,
   "metadata": {},
   "outputs": [
    {
     "data": {
      "image/png": "[encoded data removed]",
      "text/plain": [
       "<Figure size 720x288 with 1 Axes>"
      ]
     },
     "metadata": {
      "needs_background": "light"
     },
     "output_type": "display_data"
    }
   ],
   "source": [
    "fig, ax = plt.subplots(figsize= (10, 4 ))\n",
    "ax.bar(df_age_ICU['Age'], df_age_ICU['ICU_prob'], color = 'C4')\n",
    "ax.set_xlabel('Age interval', fontsize= 15)\n",
    "ax.set_ylabel('ICU admission (%)', fontsize= 15)\n",
    "\n",
    "plt.show()"
   ]
  },
  {
   "cell_type": "code",
   "execution_count": 123,
   "metadata": {},
   "outputs": [],
   "source": [
    "ICU_prob = [0., 0., 0., 0., 0.042, \n",
    "            0.042, 0.042, 0.042, 0.042, 0.104,\n",
    "            0.104, 0.112, 0.112, 0.188, 0.188,\n",
    "            0.31, 0.31, 0.29, 0.29]\n",
    "\n",
    "df_age['ICU_prob'] = ICU_prob"
   ]
  },
  {
   "cell_type": "markdown",
   "metadata": {},
   "source": [
    "### World\n",
    "\n",
    "#### COVID-19 data\n",
    "\n",
    "Data source: [Our World in Data](https://github.com/owid/covid-19-data/tree/master/public/data). Observe the database changes every day."
   ]
  },
  {
   "cell_type": "code",
   "execution_count": 94,
   "metadata": {},
   "outputs": [],
   "source": [
    "#url = 'https://covid.ourworldindata.org/data/owid-covid-data.csv'\n",
    "#filename = 'data/world_' + url.split(\"/\")[-1]\n",
    "#with open(filename, \"wb\") as f:\n",
    "#    r = requests.get(url)\n",
    "#    f.write(r.content)"
   ]
  },
  {
   "cell_type": "markdown",
   "metadata": {},
   "source": [
    "To keep the same analysis, we keep the data basis from May 17."
   ]
  },
  {
   "cell_type": "code",
   "execution_count": 124,
   "metadata": {},
   "outputs": [
    {
     "data": {
      "text/html": [
       "<div>\n",
       "<style scoped>\n",
       "    .dataframe tbody tr th:only-of-type {\n",
       "        vertical-align: middle;\n",
       "    }\n",
       "\n",
       "    .dataframe tbody tr th {\n",
       "        vertical-align: top;\n",
       "    }\n",
       "\n",
       "    .dataframe thead th {\n",
       "        text-align: right;\n",
       "    }\n",
       "</style>\n",
       "<table border=\"1\" class=\"dataframe\">\n",
       "  <thead>\n",
       "    <tr style=\"text-align: right;\">\n",
       "      <th></th>\n",
       "      <th>iso_code</th>\n",
       "      <th>location</th>\n",
       "      <th>date</th>\n",
       "      <th>total_cases</th>\n",
       "      <th>new_cases</th>\n",
       "      <th>total_deaths</th>\n",
       "      <th>new_deaths</th>\n",
       "      <th>total_cases_per_million</th>\n",
       "      <th>new_cases_per_million</th>\n",
       "      <th>total_deaths_per_million</th>\n",
       "      <th>...</th>\n",
       "      <th>aged_65_older</th>\n",
       "      <th>aged_70_older</th>\n",
       "      <th>gdp_per_capita</th>\n",
       "      <th>extreme_poverty</th>\n",
       "      <th>cvd_death_rate</th>\n",
       "      <th>diabetes_prevalence</th>\n",
       "      <th>female_smokers</th>\n",
       "      <th>male_smokers</th>\n",
       "      <th>handwashing_facilities</th>\n",
       "      <th>hospital_beds_per_100k</th>\n",
       "    </tr>\n",
       "  </thead>\n",
       "  <tbody>\n",
       "    <tr>\n",
       "      <th>0</th>\n",
       "      <td>ABW</td>\n",
       "      <td>Aruba</td>\n",
       "      <td>2020-03-13</td>\n",
       "      <td>2</td>\n",
       "      <td>2</td>\n",
       "      <td>0</td>\n",
       "      <td>0</td>\n",
       "      <td>18.733</td>\n",
       "      <td>18.733</td>\n",
       "      <td>0.0</td>\n",
       "      <td>...</td>\n",
       "      <td>13.085</td>\n",
       "      <td>7.452</td>\n",
       "      <td>35973.781</td>\n",
       "      <td>NaN</td>\n",
       "      <td>NaN</td>\n",
       "      <td>11.62</td>\n",
       "      <td>NaN</td>\n",
       "      <td>NaN</td>\n",
       "      <td>NaN</td>\n",
       "      <td>NaN</td>\n",
       "    </tr>\n",
       "    <tr>\n",
       "      <th>1</th>\n",
       "      <td>ABW</td>\n",
       "      <td>Aruba</td>\n",
       "      <td>2020-03-20</td>\n",
       "      <td>4</td>\n",
       "      <td>2</td>\n",
       "      <td>0</td>\n",
       "      <td>0</td>\n",
       "      <td>37.465</td>\n",
       "      <td>18.733</td>\n",
       "      <td>0.0</td>\n",
       "      <td>...</td>\n",
       "      <td>13.085</td>\n",
       "      <td>7.452</td>\n",
       "      <td>35973.781</td>\n",
       "      <td>NaN</td>\n",
       "      <td>NaN</td>\n",
       "      <td>11.62</td>\n",
       "      <td>NaN</td>\n",
       "      <td>NaN</td>\n",
       "      <td>NaN</td>\n",
       "      <td>NaN</td>\n",
       "    </tr>\n",
       "    <tr>\n",
       "      <th>2</th>\n",
       "      <td>ABW</td>\n",
       "      <td>Aruba</td>\n",
       "      <td>2020-03-24</td>\n",
       "      <td>12</td>\n",
       "      <td>8</td>\n",
       "      <td>0</td>\n",
       "      <td>0</td>\n",
       "      <td>112.395</td>\n",
       "      <td>74.930</td>\n",
       "      <td>0.0</td>\n",
       "      <td>...</td>\n",
       "      <td>13.085</td>\n",
       "      <td>7.452</td>\n",
       "      <td>35973.781</td>\n",
       "      <td>NaN</td>\n",
       "      <td>NaN</td>\n",
       "      <td>11.62</td>\n",
       "      <td>NaN</td>\n",
       "      <td>NaN</td>\n",
       "      <td>NaN</td>\n",
       "      <td>NaN</td>\n",
       "    </tr>\n",
       "    <tr>\n",
       "      <th>3</th>\n",
       "      <td>ABW</td>\n",
       "      <td>Aruba</td>\n",
       "      <td>2020-03-25</td>\n",
       "      <td>17</td>\n",
       "      <td>5</td>\n",
       "      <td>0</td>\n",
       "      <td>0</td>\n",
       "      <td>159.227</td>\n",
       "      <td>46.831</td>\n",
       "      <td>0.0</td>\n",
       "      <td>...</td>\n",
       "      <td>13.085</td>\n",
       "      <td>7.452</td>\n",
       "      <td>35973.781</td>\n",
       "      <td>NaN</td>\n",
       "      <td>NaN</td>\n",
       "      <td>11.62</td>\n",
       "      <td>NaN</td>\n",
       "      <td>NaN</td>\n",
       "      <td>NaN</td>\n",
       "      <td>NaN</td>\n",
       "    </tr>\n",
       "    <tr>\n",
       "      <th>4</th>\n",
       "      <td>ABW</td>\n",
       "      <td>Aruba</td>\n",
       "      <td>2020-03-26</td>\n",
       "      <td>19</td>\n",
       "      <td>2</td>\n",
       "      <td>0</td>\n",
       "      <td>0</td>\n",
       "      <td>177.959</td>\n",
       "      <td>18.733</td>\n",
       "      <td>0.0</td>\n",
       "      <td>...</td>\n",
       "      <td>13.085</td>\n",
       "      <td>7.452</td>\n",
       "      <td>35973.781</td>\n",
       "      <td>NaN</td>\n",
       "      <td>NaN</td>\n",
       "      <td>11.62</td>\n",
       "      <td>NaN</td>\n",
       "      <td>NaN</td>\n",
       "      <td>NaN</td>\n",
       "      <td>NaN</td>\n",
       "    </tr>\n",
       "  </tbody>\n",
       "</table>\n",
       "<p>5 rows × 29 columns</p>\n",
       "</div>"
      ],
      "text/plain": [
       "  iso_code location        date  total_cases  new_cases  total_deaths  \\\n",
       "0      ABW    Aruba  2020-03-13            2          2             0   \n",
       "1      ABW    Aruba  2020-03-20            4          2             0   \n",
       "2      ABW    Aruba  2020-03-24           12          8             0   \n",
       "3      ABW    Aruba  2020-03-25           17          5             0   \n",
       "4      ABW    Aruba  2020-03-26           19          2             0   \n",
       "\n",
       "   new_deaths  total_cases_per_million  new_cases_per_million  \\\n",
       "0           0                   18.733                 18.733   \n",
       "1           0                   37.465                 18.733   \n",
       "2           0                  112.395                 74.930   \n",
       "3           0                  159.227                 46.831   \n",
       "4           0                  177.959                 18.733   \n",
       "\n",
       "   total_deaths_per_million  ...  aged_65_older  aged_70_older  \\\n",
       "0                       0.0  ...         13.085          7.452   \n",
       "1                       0.0  ...         13.085          7.452   \n",
       "2                       0.0  ...         13.085          7.452   \n",
       "3                       0.0  ...         13.085          7.452   \n",
       "4                       0.0  ...         13.085          7.452   \n",
       "\n",
       "   gdp_per_capita  extreme_poverty  cvd_death_rate diabetes_prevalence  \\\n",
       "0       35973.781              NaN             NaN               11.62   \n",
       "1       35973.781              NaN             NaN               11.62   \n",
       "2       35973.781              NaN             NaN               11.62   \n",
       "3       35973.781              NaN             NaN               11.62   \n",
       "4       35973.781              NaN             NaN               11.62   \n",
       "\n",
       "   female_smokers  male_smokers  handwashing_facilities  \\\n",
       "0             NaN           NaN                     NaN   \n",
       "1             NaN           NaN                     NaN   \n",
       "2             NaN           NaN                     NaN   \n",
       "3             NaN           NaN                     NaN   \n",
       "4             NaN           NaN                     NaN   \n",
       "\n",
       "   hospital_beds_per_100k  \n",
       "0                     NaN  \n",
       "1                     NaN  \n",
       "2                     NaN  \n",
       "3                     NaN  \n",
       "4                     NaN  \n",
       "\n",
       "[5 rows x 29 columns]"
      ]
     },
     "execution_count": 124,
     "metadata": {},
     "output_type": "execute_result"
    }
   ],
   "source": [
    "filename = 'data/world_owid-covid-data_05_17.csv'\n",
    "\n",
    "df_W = pd.read_csv(filename)\n",
    "df_W = df_W[df_W.location != 'Hong Kong']\n",
    "df_W = df_W[df_W['iso_code'].notna()]\n",
    "df_W.head()"
   ]
  },
  {
   "cell_type": "markdown",
   "metadata": {},
   "source": [
    "We focus on two scenarios defined on the other notebook (cite)."
   ]
  },
  {
   "cell_type": "markdown",
   "metadata": {},
   "source": [
    "## Fit sigmoid over data\n",
    "\n",
    "$$ \\hat{n}(t) =  \\frac{\\hat{n}^{*}}{1 + e^{-\\alpha(t - t_0)}}   \\; \\; \\, $$\n"
   ]
  },
  {
   "cell_type": "code",
   "execution_count": 125,
   "metadata": {},
   "outputs": [],
   "source": [
    "country1 = 'Spain'\n",
    "country2 = 'Switzerland'\n",
    "\n",
    "frac1 = list(df_W[ df_W['location'] == country1]['total_cases_per_million'])[-1] / 10**6\n",
    "frac2 = list(df_W[ df_W['location'] == country2]['total_cases_per_million'])[-1] / 10**6\n",
    "\n",
    "n_star1 = frac1 * pop0\n",
    "n_star2 = frac2 * pop0"
   ]
  },
  {
   "cell_type": "markdown",
   "metadata": {},
   "source": [
    "### Linear regression over $\\log(n^{*} / n(t)  - 1 )$"
   ]
  },
  {
   "cell_type": "code",
   "execution_count": 128,
   "metadata": {},
   "outputs": [],
   "source": [
    "S = 1\n",
    "\n",
    "X_ = np.arange(len(df_I))\n",
    "X = X_.reshape(-1, 1)\n",
    "\n",
    "# The model is fitted with a subnotification factor\n",
    "y1 = np.log( n_star1 / np.array( S * df_I) - 1. )\n",
    "y1 = y1.reshape(len(df_I)).reshape(-1, 1)\n",
    "\n",
    "y2 = np.log( n_star2 / np.array( S * df_I) - 1. )\n",
    "y2 = y2.reshape(len(df_I)).reshape(-1, 1)"
   ]
  },
  {
   "cell_type": "code",
   "execution_count": 129,
   "metadata": {},
   "outputs": [
    {
     "data": {
      "text/plain": [
       "LinearRegression(copy_X=True, fit_intercept=True, n_jobs=None, normalize=False)"
      ]
     },
     "execution_count": 129,
     "metadata": {},
     "output_type": "execute_result"
    }
   ],
   "source": [
    "t0 = 45\n",
    "\n",
    "model1 = linear_model.LinearRegression()\n",
    "model2 = linear_model.LinearRegression()\n",
    "\n",
    "model1.fit(X[t0:], y1[t0:])\n",
    "model2.fit(X[t0:], y2[t0:])"
   ]
  },
  {
   "cell_type": "code",
   "execution_count": 130,
   "metadata": {},
   "outputs": [
    {
     "data": {
      "image/png": "[encoded data removed]",
      "text/plain": [
       "<Figure size 864x288 with 2 Axes>"
      ]
     },
     "metadata": {
      "needs_background": "light"
     },
     "output_type": "display_data"
    }
   ],
   "source": [
    "fig, axs = plt.subplots(1, 2, figsize= (12, 4))\n",
    "\n",
    "axs[0].plot(df_I.index[t0:], -y1[t0:], 'o', color= 'C0', label= 'Data')\n",
    "axs[0].plot(df_I.index[t0:], -model1.predict(X)[t0:], color= 'C3', label= country1 + ' scenario')\n",
    "axs[0].grid(linestyle=':')\n",
    "axs[0].set_xlabel('Date', fontsize= 15)\n",
    "axs[0].set_ylabel('$ \\\\log \\\\left( \\\\frac{\\\\hat{n}^{*}}{\\\\hat{n}(t)} - 1 \\\\right) $', fontsize= 15)\n",
    "axs[0].tick_params(labelrotation= 45)\n",
    "axs[0].legend()\n",
    "\n",
    "axs[1].plot(df_I.index[t0:], -y2[t0:], 'o', color= 'C0', label= 'Data')\n",
    "axs[1].plot(df_I.index[t0:], -model2.predict(X)[t0:], color= 'C2', label= country2 + ' scenario')\n",
    "axs[1].grid(linestyle=':')\n",
    "axs[1].set_xlabel('Date', fontsize= 15)\n",
    "axs[1].tick_params(labelrotation= 45)\n",
    "axs[1].legend()\n",
    "plt.show()"
   ]
  },
  {
   "cell_type": "markdown",
   "metadata": {},
   "source": [
    "### Number of infected projections"
   ]
  },
  {
   "cell_type": "code",
   "execution_count": 137,
   "metadata": {},
   "outputs": [],
   "source": [
    "def sigmoid(t, t0, alpha, n_star, shift_NaN= 0):\n",
    "    return n_star / (1. + np.exp(-alpha*(t - t0 - shift_NaN)))"
   ]
  },
  {
   "cell_type": "code",
   "execution_count": 140,
   "metadata": {},
   "outputs": [
    {
     "data": {
      "image/png": "[encoded data removed]",
      "text/plain": [
       "<Figure size 432x288 with 1 Axes>"
      ]
     },
     "metadata": {
      "needs_background": "light"
     },
     "output_type": "display_data"
    }
   ],
   "source": [
    "X__ = np.arange(0, 180)\n",
    "\n",
    "start = df_I.index[0]\n",
    "end = pd.to_datetime(start, format='%Y/%m/%d') + pd.DateOffset(days= len(X__) - 1)\n",
    "time = pd.date_range(start, end, freq='D')\n",
    "\n",
    "n1 = sigmoid(X__, \n",
    "             t0= -model1.intercept_[0] / model1.coef_[0][0], \n",
    "             alpha= -model1.coef_[0][0], \n",
    "             n_star= n_star1,\n",
    "             shift_NaN= shift_NaN)\n",
    "\n",
    "n2 = sigmoid(X__, \n",
    "             t0= -model2.intercept_[0] / model2.coef_[0][0], \n",
    "             alpha= -model2.coef_[0][0], \n",
    "             n_star= n_star2,\n",
    "             shift_NaN= shift_NaN)\n",
    "\n",
    "\n",
    "fig, ax = plt.subplots()\n",
    "\n",
    "ax.plot(time, \n",
    "        sigmoid(X__, \n",
    "                t0= -model1.intercept_[0] / model1.coef_[0][0], \n",
    "                alpha= -model1.coef_[0][0], \n",
    "                n_star= n_star1,\n",
    "                shift_NaN= shift_NaN), \n",
    "        color= 'C3', label= country1 + ' scenario')\n",
    "\n",
    "\n",
    "ax.plot(time, \n",
    "        sigmoid(X__, \n",
    "                t0= -model2.intercept_[0] / model2.coef_[0][0], \n",
    "                alpha= -model2.coef_[0][0], \n",
    "                n_star= n_star2,\n",
    "                shift_NaN= shift_NaN), \n",
    "        color= 'C2', label= country2 + ' scenario')\n",
    "\n",
    "ax.plot(df_I.index, np.array(S * df_I['confirmed']), 'o-', color= 'C0', label= 'Data')\n",
    "\n",
    "ax.grid(linestyle=':')\n",
    "ax.set_xlabel('Date', fontsize= 15)\n",
    "ax.set_ylabel('Number of Infected', fontsize= 15)\n",
    "ax.tick_params(labelrotation= 45)\n",
    "ax.legend()\n",
    "\n",
    "plt.show()"
   ]
  },
  {
   "cell_type": "markdown",
   "metadata": {},
   "source": [
    "## Sampling from age-structed population probability and ICU admission probability\n",
    "\n",
    "Function to be used to performe both sampling over time."
   ]
  },
  {
   "cell_type": "code",
   "execution_count": 142,
   "metadata": {},
   "outputs": [],
   "source": [
    "def ICU_samp(df, n, n_samp_AGE_max= 1000, n_samp_AGE_min= 100, n_samp_ICU_max= 1000, n_samp_ICU_min= 100):\n",
    "\n",
    "    df_samp = pd.DataFrame(columns= df['Age'])\n",
    "\n",
    "    for j in range(n_samp_AGE_max):\n",
    "    \n",
    "        samp = np.random.choice(df['Age'], \n",
    "                                n, \n",
    "                                p= list(df['AGE_prob']) )\n",
    "\n",
    "        unique, counts = np.unique(samp, return_counts= True)\n",
    "    \n",
    "        for l in range(len(unique)):\n",
    "            df_samp.loc[j, unique[l]] = counts[l]\n",
    "\n",
    "\n",
    "    df_samp = df_samp.fillna(0)\n",
    "    df['n_mean'] = list(df_samp.mean(axis= 0))\n",
    "    df['n_std']  = list(df_samp.std(axis =0))\n",
    "\n",
    "    df = df.set_index('Age')\n",
    "\n",
    "    for age in df.index:\n",
    "    \n",
    "        aux_ = []\n",
    "\n",
    "        for j in range(n_samp_ICU_max):      \n",
    "    \n",
    "            samp = np.random.uniform(size= int(df.loc[age]['n_mean']))  \n",
    "            samp_ICU = samp < df.loc[age]['ICU_prob']\n",
    "            aux_.append(samp_ICU.sum())\n",
    "\n",
    "\n",
    "        df.loc[age, 'n_mean_ICU']  = np.mean(aux_)\n",
    "        df.loc[age, 'n_std_ICU']   = np.std(aux_)\n",
    "        \n",
    "    df['n_std_ICU'] = np.sqrt( df['n_std']**2 +  df['n_std_ICU']**2)\n",
    "    \n",
    "    return df"
   ]
  },
  {
   "cell_type": "markdown",
   "metadata": {},
   "source": [
    "Running the function over both scenarios:"
   ]
  },
  {
   "cell_type": "code",
   "execution_count": 143,
   "metadata": {},
   "outputs": [],
   "source": [
    "df1_ = []\n",
    "df2_ = []\n",
    "\n",
    "for j in range(len(n1)):\n",
    "    \n",
    "    df1 = ICU_samp(df= df_age.reset_index(), \n",
    "                   n= int(n1[j]), \n",
    "                   n_samp_AGE_max= 1000, n_samp_AGE_min= 100,\n",
    "                   n_samp_ICU_max= 1000, n_samp_ICU_min= 100)\n",
    "\n",
    "    df2 = ICU_samp(df= df_age.reset_index(), \n",
    "                   n = int(n2[j]), \n",
    "                   n_samp_AGE_max= 1000, n_samp_AGE_min= 100,\n",
    "                   n_samp_ICU_max= 1000, n_samp_ICU_min= 100)\n",
    "    \n",
    "    df1_.append(df1)\n",
    "    df2_.append(df2)"
   ]
  },
  {
   "cell_type": "markdown",
   "metadata": {},
   "source": [
    "### Taking into account removal from ICU after `T_ICU` days"
   ]
  },
  {
   "cell_type": "code",
   "execution_count": 144,
   "metadata": {},
   "outputs": [],
   "source": [
    "def correction(x, df_, T_ICU= 14):\n",
    "\n",
    "    df_[x]['n_mean_ICU_cor'] = 0.\n",
    "    df_[j]['n_std_ICU_cor'] = 0.\n",
    "    \n",
    "    if x <= T_ICU:\n",
    "                   \n",
    "        df_[x]['n_mean_ICU_cor'] = df_[x]['n_mean_ICU']\n",
    "        df_[x]['n_std_ICU_cor']   = df_[x]['n_std_ICU']\n",
    "             \n",
    "    else:\n",
    "        \n",
    "        delta = df_[x]['n_mean_ICU'] - df_[x - T_ICU]['n_mean_ICU']\n",
    "        \n",
    "        df_[x]['n_mean_ICU_cor'] = np.heaviside(delta, 0) * delta\n",
    "        df_[x]['n_std_ICU_cor']  = np.sqrt(df_[x]['n_std_ICU']**2 + df_[x - T_ICU]['n_std_ICU']**2)"
   ]
  },
  {
   "cell_type": "code",
   "execution_count": 145,
   "metadata": {},
   "outputs": [],
   "source": [
    "T_ICU = 14\n",
    "\n",
    "for x in range(len(df1_)):\n",
    "    \n",
    "    correction(x, df_= df1_, T_ICU= T_ICU)\n",
    "    correction(x, df_= df2_, T_ICU= T_ICU)"
   ]
  },
  {
   "cell_type": "markdown",
   "metadata": {},
   "source": [
    "## Collecting daily averages\n",
    "\n",
    "Given a list `df_` of dataframes, the function `daily_av` collect averages of collumns values over a `timeseries_data` period. The return is a daaframe called `df_ICU`."
   ]
  },
  {
   "cell_type": "code",
   "execution_count": 146,
   "metadata": {},
   "outputs": [],
   "source": [
    "def daily_av(df_, timeseries_data, SUS= True, p_SUS= 0.6278, n_samp_max= 1000, n_samp_min= 100):\n",
    "\n",
    "    n_mean_    = []\n",
    "    n_std_     = []\n",
    "    n_mean_ICU_ = []\n",
    "    n_std_ICU_  = []\n",
    "\n",
    "    for j in range(len(df_)):\n",
    "\n",
    "        n_mean_.append(df_[j]['n_mean'].sum())\n",
    "        n_std_.append( np.sqrt((df_[j]['n_std']**2).sum()) )\n",
    "        \n",
    "        n_mean_ICU_.append(df_[j]['n_mean_ICU_cor'].sum())\n",
    "        n_std_ICU_.append( np.sqrt((df_[j]['n_std_ICU_cor']**2).sum()) )\n",
    "\n",
    "    names = ['date', 'n_mean', 'n_std', 'n_mean_ICU', 'n_std_ICU']\n",
    "    df_ICU = pd.DataFrame(columns= names)\n",
    "    df_ICU['date'] = timeseries_data\n",
    "\n",
    "    df_ICU['n_mean']     = n_mean_ \n",
    "    df_ICU['n_std']      = n_std_\n",
    "    df_ICU['n_mean_ICU'] = n_mean_ICU_\n",
    "    df_ICU['n_std_ICU']  = n_std_ICU_\n",
    "\n",
    "    df_ICU = df_ICU.set_index(['date'])\n",
    "\n",
    "\n",
    "    if SUS:\n",
    "\n",
    "        for date in df_ICU.index:\n",
    "            \n",
    "            aux_ = []\n",
    "\n",
    "            for j in range(n_samp_max):\n",
    "\n",
    "                samp = np.random.uniform(size= int(df_ICU.loc[date]['n_mean_ICU']))  \n",
    "                SUS_samp = samp <= p_SUS\n",
    "                aux_.append(SUS_samp.sum())\n",
    "\n",
    "\n",
    "\n",
    "            df_ICU.loc[date, 'n_mean_ICU_SUS'] = np.mean(aux_)\n",
    "            df_ICU.loc[date, 'n_std_ICU_SUS']  = np.std(aux_)\n",
    "\n",
    "        df_ICU['n_std_ICU_SUS'] = np.sqrt( df_ICU['n_std_ICU']**2 +  df_ICU['n_std_ICU_SUS']**2)\n",
    "\n",
    "    return df_ICU"
   ]
  },
  {
   "cell_type": "code",
   "execution_count": 147,
   "metadata": {},
   "outputs": [],
   "source": [
    "df1_ICU = daily_av(df1_, timeseries_data= time, SUS= True, p_SUS= 0.6278, n_samp_max= 1000, n_samp_min= 100)\n",
    "df2_ICU = daily_av(df2_, timeseries_data= time, SUS= True, p_SUS= 0.6278, n_samp_max= 1000, n_samp_min= 100)"
   ]
  },
  {
   "cell_type": "markdown",
   "metadata": {},
   "source": [
    "## Median between two scenarios"
   ]
  },
  {
   "cell_type": "code",
   "execution_count": 148,
   "metadata": {},
   "outputs": [],
   "source": [
    "df_median = pd.DataFrame(columns= ['date', 'median', 'std', 'median_SUS', 'std_SUS'])\n",
    "\n",
    "df_median['date'] = df1_ICU.index\n",
    "df_median['median'] = np.median([df1_ICU['n_mean_ICU'], df2_ICU['n_mean_ICU']], axis=0)\n",
    "df_median['std'] = np.median([df1_ICU['n_std_ICU'], df2_ICU['n_std_ICU']], axis=0)\n",
    "df_median['median_SUS'] = np.median([df1_ICU['n_mean_ICU_SUS'], df2_ICU['n_mean_ICU_SUS']], axis=0)\n",
    "df_median['std_SUS'] = np.median([df1_ICU['n_std_ICU_SUS'], df2_ICU['n_std_ICU_SUS']], axis=0)\n",
    "df_median = df_median.set_index('date')\n",
    "\n",
    "df_median.index = pd.to_datetime(df_median.index)"
   ]
  },
  {
   "cell_type": "markdown",
   "metadata": {},
   "source": [
    "## Private ICU beds"
   ]
  },
  {
   "cell_type": "code",
   "execution_count": 149,
   "metadata": {},
   "outputs": [],
   "source": [
    "df1_ICU['n_mean_ICU_PRIVATE'] = df1_ICU['n_mean_ICU'] - df1_ICU['n_mean_ICU_SUS'] \n",
    "df1_ICU['n_std_ICU_PRIVATE'] = np.sqrt(  df1_ICU['n_std_ICU']**2 + df1_ICU['n_std_ICU_SUS']  )\n",
    "\n",
    "df2_ICU['n_mean_ICU_PRIVATE'] = df2_ICU['n_mean_ICU'] - df2_ICU['n_mean_ICU_SUS'] \n",
    "df2_ICU['n_std_ICU_PRIVATE'] = np.sqrt(  df2_ICU['n_std_ICU']**2 + df2_ICU['n_std_ICU_SUS']  )\n",
    "\n",
    "df_median['median_PRIVATE'] = df_median['median'] - df_median['median_SUS'] \n",
    "df_median['std_PRIVATE'] = np.sqrt(  df_median['median']**2 + df_median['median_SUS']  )"
   ]
  },
  {
   "cell_type": "markdown",
   "metadata": {},
   "source": [
    "## Saving the results. "
   ]
  },
  {
   "cell_type": "code",
   "execution_count": 150,
   "metadata": {},
   "outputs": [],
   "source": [
    "file1 = 'results/dfs/df_ICU_' + state_or_city + '_' + name + '_' + country1 + '_t0=' + str(t0) + '_fit_until_' + fit_until + '.pkl'\n",
    "file2 = 'results/dfs/df_ICU_' + state_or_city + '_' + name + '_' + country2 + '_t0=' + str(t0) + '_fit_until_' + fit_until + '.pkl'\n",
    "file3 = 'results/dfs/df_ICU_' + state_or_city + '_' + name + '_' + 'MEDIAN' + '_t0=' + str(t0) + '_fit_until_' + fit_until + '_' + country1 + '_' + country2 + '.pkl'\n",
    "\n",
    "\n",
    "df1_ICU.to_pickle(file1) \n",
    "df2_ICU.to_pickle(file2) \n",
    "df_median.to_pickle(file3)"
   ]
  }
 ],
 "metadata": {
  "kernelspec": {
   "display_name": "Python 3",
   "language": "python",
   "name": "python3"
  },
  "language_info": {
   "codemirror_mode": {
    "name": "ipython",
    "version": 3
   },
   "file_extension": ".py",
   "mimetype": "text/x-python",
   "name": "python",
   "nbconvert_exporter": "python",
   "pygments_lexer": "ipython3",
   "version": "3.7.3"
  }
 },
 "nbformat": 4,
 "nbformat_minor": 2
}